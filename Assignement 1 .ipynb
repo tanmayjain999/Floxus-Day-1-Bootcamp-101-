{
 "cells": [
  {
   "cell_type": "code",
   "execution_count": 1,
   "id": "verbal-mortgage",
   "metadata": {},
   "outputs": [
    {
     "name": "stdout",
     "output_type": "stream",
     "text": [
      "Please Enter a Number : 56568\n",
      "This Number is Even\n"
     ]
    }
   ],
   "source": [
    "#Even Odd Program using Bitwise Operator  \n",
    "\n",
    "a=int(input(\"Please Enter a Number : \"));  \n",
    "if(a&1==1):  \n",
    "    print(\"This Number is Odd\")    \n",
    "else:  \n",
    "    print(\"This Number is Even\")"
   ]
  },
  {
   "cell_type": "code",
   "execution_count": 2,
   "id": "frozen-completion",
   "metadata": {},
   "outputs": [
    {
     "name": "stdout",
     "output_type": "stream",
     "text": [
      "8\n"
     ]
    }
   ],
   "source": [
    "# calculate 2^x using BitwiseOperator\n",
    "def pow(a,b):\n",
    "     \n",
    "    if(b):\n",
    "        return multiply(a, pow(a, b-1));\n",
    "    else:\n",
    "        return 1;\n",
    "      \n",
    "# A recursive function to get x*y\n",
    "def multiply(x, y):\n",
    "     \n",
    "    if (y):\n",
    "        return (x + multiply(x, y-1));\n",
    "    else:\n",
    "        return 0;\n",
    "# driver program to test above functions \n",
    "print(pow(2, 3))"
   ]
  },
  {
   "cell_type": "code",
   "execution_count": 3,
   "id": "conservative-shelf",
   "metadata": {},
   "outputs": [
    {
     "name": "stdout",
     "output_type": "stream",
     "text": [
      "Enter the number of rows: 5\n",
      "1 \n",
      "1 2 \n",
      "1 2 3 \n",
      "1 2 3 4 \n",
      "1 2 3 4 5 \n"
     ]
    }
   ],
   "source": [
    "# program to print the following number pyramid \n",
    "\n",
    "rows = int(input(\"Enter the number of rows: \"))  \n",
    "  \n",
    "# This will print the rows  \n",
    "for i in range(1, rows+1):  \n",
    "    # This will print number of column  \n",
    "    for j in range(1, i + 1):  \n",
    "        print(j, end=' ')  \n",
    "    print(\"\")  "
   ]
  },
  {
   "cell_type": "code",
   "execution_count": 4,
   "id": "certain-study",
   "metadata": {},
   "outputs": [
    {
     "name": "stdout",
     "output_type": "stream",
     "text": [
      "Enter the number of rows: 5\n",
      "* * * * *  \n",
      "* * * *  \n",
      "* * *  \n",
      "* *  \n",
      "*  \n",
      " \n"
     ]
    }
   ],
   "source": [
    "#  program to print the inverted pyramid \n",
    "rows = int(input(\"Enter the number of rows: \"))  \n",
    "  \n",
    "# the outer loop is executing in reversed order  \n",
    "for i in range(rows + 1, 0, -1):    \n",
    "    for j in range(0, i - 1):  \n",
    "        print(\"*\", end=' ')  \n",
    "    print(\" \") "
   ]
  },
  {
   "cell_type": "code",
   "execution_count": 5,
   "id": "english-status",
   "metadata": {},
   "outputs": [
    {
     "name": "stdout",
     "output_type": "stream",
     "text": [
      "Enter number of rows: 5\n",
      "        * \n",
      "      * * * \n",
      "    * * * * * \n",
      "  * * * * * * * \n",
      "* * * * * * * * * \n"
     ]
    }
   ],
   "source": [
    "# program to print the full pyramid\n",
    "rows = int(input(\"Enter number of rows: \"))\n",
    "\n",
    "k = 0\n",
    "\n",
    "for i in range(1, rows+1):\n",
    "    for space in range(1, (rows-i)+1):\n",
    "        print(end=\"  \")\n",
    "   \n",
    "    while k!=(2*i-1):\n",
    "        print(\"* \", end=\"\")\n",
    "        k += 1\n",
    "   \n",
    "    k = 0\n",
    "    print()"
   ]
  },
  {
   "cell_type": "code",
   "execution_count": 6,
   "id": "competitive-favor",
   "metadata": {},
   "outputs": [
    {
     "name": "stdout",
     "output_type": "stream",
     "text": [
      "Enter number of rows: 4\n",
      "1 \n",
      "2 3 \n",
      "4 5 6 \n",
      "7 8 9 10 \n"
     ]
    }
   ],
   "source": [
    "# a program to print Floyds Triangle\n",
    "rows = int(input(\"Enter number of rows: \"))\n",
    "number = 1\n",
    "\n",
    "for i in range(1, rows+1):\n",
    "    for j in range(1, i+1):\n",
    "        print(number, end=\" \")\n",
    "        number += 1\n",
    "    print()"
   ]
  },
  {
   "cell_type": "code",
   "execution_count": 7,
   "id": "promotional-motion",
   "metadata": {},
   "outputs": [
    {
     "name": "stdout",
     "output_type": "stream",
     "text": [
      "Enter the Number: 56587\n",
      "1601072578\n"
     ]
    }
   ],
   "source": [
    "# program to find the sum of first N natural number using for loop  \n",
    "number = int(input(\"Enter the Number: \"))\n",
    "sum = 0\n",
    "for value in range(1, number + 1):\n",
    "    sum = sum + value\n",
    "print(sum)"
   ]
  },
  {
   "cell_type": "code",
   "execution_count": 8,
   "id": "exceptional-copyright",
   "metadata": {},
   "outputs": [
    {
     "name": "stdout",
     "output_type": "stream",
     "text": [
      "Enter a number: 56587895555\n",
      "56587895555 is not a prime number\n",
      "5 times 11317579111 is 56587895555\n"
     ]
    }
   ],
   "source": [
    "# program to check whether a number is prime or not\n",
    "num = int(input(\"Enter a number: \"))  \n",
    "  \n",
    "if num > 1:  \n",
    "   for i in range(2,num):  \n",
    "       if (num % i) == 0:  \n",
    "           print(num,\"is not a prime number\")  \n",
    "           print(i,\"times\",num//i,\"is\",num)  \n",
    "           break  \n",
    "   else:  \n",
    "       print(num,\"is a prime number\")  \n",
    "         \n",
    "else:  \n",
    "   print(num,\"is not a prime number\")"
   ]
  },
  {
   "cell_type": "code",
   "execution_count": 9,
   "id": "expired-concept",
   "metadata": {},
   "outputs": [
    {
     "name": "stdout",
     "output_type": "stream",
     "text": [
      "11001\n"
     ]
    }
   ],
   "source": [
    "# program to print Binary representation of a given number N \n",
    "\n",
    "def bin(n):\n",
    " \n",
    "    if (n > 1):\n",
    "        bin(n >> 1)\n",
    "    print(n & 1, end=\"\")\n",
    "bin(25)\n",
    "print()"
   ]
  },
  {
   "cell_type": "code",
   "execution_count": null,
   "id": "experimental-strike",
   "metadata": {},
   "outputs": [],
   "source": []
  },
  {
   "cell_type": "code",
   "execution_count": null,
   "id": "ancient-renewal",
   "metadata": {},
   "outputs": [],
   "source": []
  }
 ],
 "metadata": {
  "kernelspec": {
   "display_name": "Python 3",
   "language": "python",
   "name": "python3"
  },
  "language_info": {
   "codemirror_mode": {
    "name": "ipython",
    "version": 3
   },
   "file_extension": ".py",
   "mimetype": "text/x-python",
   "name": "python",
   "nbconvert_exporter": "python",
   "pygments_lexer": "ipython3",
   "version": "3.6.13"
  }
 },
 "nbformat": 4,
 "nbformat_minor": 5
}
